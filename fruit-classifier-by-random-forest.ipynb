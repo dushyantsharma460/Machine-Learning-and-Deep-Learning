{
 "cells": [
  {
   "cell_type": "code",
   "execution_count": 1,
   "id": "0abc4e96-f282-4e57-a9eb-9a1f9362b4e5",
   "metadata": {},
   "outputs": [],
   "source": [
    "# See fruit example by random forest classifier\n",
    "# There are so many classifier like forest classifier, naive bayes classifier, decision tree classifier"
   ]
  },
  {
   "cell_type": "code",
   "execution_count": 2,
   "id": "7bcef1a9-82a1-4ef1-b393-8028cd861c0d",
   "metadata": {},
   "outputs": [],
   "source": [
    "from sklearn.ensemble import RandomForestClassifier"
   ]
  },
  {
   "cell_type": "code",
   "execution_count": 3,
   "id": "5dd5e7b9-dd66-4e0e-822a-e673252a19da",
   "metadata": {},
   "outputs": [],
   "source": [
    "features = [\n",
    "    [150, 0],# Apple\n",
    "    [170, 0],# Apple\n",
    "    [130, 1],# Orange\n",
    "    [120, 1],# Orange\n",
    "]"
   ]
  },
  {
   "cell_type": "code",
   "execution_count": 4,
   "id": "a0349827-e976-4cd0-991e-296b017c761f",
   "metadata": {},
   "outputs": [],
   "source": [
    "labels = [\"apple\", \"apple\", \"orange\", \"orange\"]"
   ]
  },
  {
   "cell_type": "code",
   "execution_count": 5,
   "id": "4d016aa0-31f8-41e7-84fa-5eaa13f953c3",
   "metadata": {},
   "outputs": [],
   "source": [
    "# Classifier is random forest classifier\n",
    "clf = RandomForestClassifier()"
   ]
  },
  {
   "cell_type": "code",
   "execution_count": 6,
   "id": "64c67c84-b089-4ef9-9070-06828091b751",
   "metadata": {},
   "outputs": [],
   "source": [
    "clf = clf.fit(features, labels)"
   ]
  },
  {
   "cell_type": "code",
   "execution_count": 7,
   "id": "ef24b9ea-c388-4989-a7c5-7a6fe5dd0df2",
   "metadata": {},
   "outputs": [],
   "source": [
    "prediction = clf.predict([[141, 1]])"
   ]
  },
  {
   "cell_type": "code",
   "execution_count": 8,
   "id": "218dfac8-34ae-4221-beb9-b30fde80033c",
   "metadata": {},
   "outputs": [
    {
     "name": "stdout",
     "output_type": "stream",
     "text": [
      "The fruit is orange\n"
     ]
    }
   ],
   "source": [
    "# The different algo work different ... Can give different result (For same data)\n",
    "print(f\"The fruit is {prediction[0]}\")"
   ]
  }
 ],
 "metadata": {
  "kernelspec": {
   "display_name": "Python [conda env:base] *",
   "language": "python",
   "name": "conda-base-py"
  },
  "language_info": {
   "codemirror_mode": {
    "name": "ipython",
    "version": 3
   },
   "file_extension": ".py",
   "mimetype": "text/x-python",
   "name": "python",
   "nbconvert_exporter": "python",
   "pygments_lexer": "ipython3",
   "version": "3.13.5"
  }
 },
 "nbformat": 4,
 "nbformat_minor": 5
}
