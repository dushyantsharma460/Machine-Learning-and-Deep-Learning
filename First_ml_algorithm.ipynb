{
 "cells": [
  {
   "cell_type": "code",
   "execution_count": 1,
   "id": "ed532216-266c-4af7-9dda-484b70c31a60",
   "metadata": {},
   "outputs": [],
   "source": [
    "# First Machine Learning Model\n",
    "\n",
    "# “Can we predict if a fruit is an apple or an orange?”\n",
    "# The idea:\n",
    "# We have some fruits.\n",
    "# • Apples are heavy and red\n",
    "# • Oranges are lighter and orange-colored"
   ]
  },
  {
   "cell_type": "code",
   "execution_count": 2,
   "id": "11a33d0e-181a-4f50-8c7d-8d3513a9d65d",
   "metadata": {},
   "outputs": [],
   "source": [
    "# At first, it looks easy to tell apples and oranges apart.\n",
    "# 👉 You can check their color (red vs orange) or their weight.\n",
    "\n",
    "# But when you have many types of fruits (banana, mango, grapes, etc.), it becomes difficult to write rules for every single case.\n",
    "# 👉 Real-world fruits are messy: some oranges look red, some apples look orange, sizes vary, etc.\n",
    "# So the rules you make start breaking down.\n",
    "\n",
    "# 💡 Instead of writing rules, we let a machine learn from examples.\n",
    "# This is called machine learning."
   ]
  },
  {
   "cell_type": "code",
   "execution_count": 4,
   "id": "7bcef1a9-82a1-4ef1-b393-8028cd861c0d",
   "metadata": {},
   "outputs": [],
   "source": [
    "from sklearn.tree import DecisionTreeClassifier"
   ]
  },
  {
   "cell_type": "code",
   "execution_count": 5,
   "id": "5dd5e7b9-dd66-4e0e-822a-e673252a19da",
   "metadata": {},
   "outputs": [],
   "source": [
    "features = [\n",
    "    [150, 0],# Apple\n",
    "    [170, 0],# Apple\n",
    "    [130, 1],# Orange\n",
    "    [120, 1],# Orange\n",
    "]"
   ]
  },
  {
   "cell_type": "code",
   "execution_count": 6,
   "id": "a0349827-e976-4cd0-991e-296b017c761f",
   "metadata": {},
   "outputs": [],
   "source": [
    "labels = [\"apple\", \"apple\", \"orange\", \"orange\"]"
   ]
  },
  {
   "cell_type": "code",
   "execution_count": 7,
   "id": "4d016aa0-31f8-41e7-84fa-5eaa13f953c3",
   "metadata": {},
   "outputs": [],
   "source": [
    "# Classifier is decision tree classifier\n",
    "clf = DecisionTreeClassifier()"
   ]
  },
  {
   "cell_type": "code",
   "execution_count": 9,
   "id": "64c67c84-b089-4ef9-9070-06828091b751",
   "metadata": {},
   "outputs": [],
   "source": [
    "# Now step is to train the data (features and labels) from the help of decisiontree\n",
    "clf = clf.fit(features, labels)"
   ]
  },
  {
   "cell_type": "code",
   "execution_count": 18,
   "id": "ef24b9ea-c388-4989-a7c5-7a6fe5dd0df2",
   "metadata": {},
   "outputs": [],
   "source": [
    "# Simple model that don't predict accurate because it is train on very small dataset\n",
    "prediction = clf.predict([[140, 1]])"
   ]
  },
  {
   "cell_type": "code",
   "execution_count": 19,
   "id": "218dfac8-34ae-4221-beb9-b30fde80033c",
   "metadata": {},
   "outputs": [
    {
     "name": "stdout",
     "output_type": "stream",
     "text": [
      "The fruit is orange\n"
     ]
    }
   ],
   "source": [
    "print(f\"The fruit is {prediction[0]}\")"
   ]
  }
 ],
 "metadata": {
  "kernelspec": {
   "display_name": "Python [conda env:base] *",
   "language": "python",
   "name": "conda-base-py"
  },
  "language_info": {
   "codemirror_mode": {
    "name": "ipython",
    "version": 3
   },
   "file_extension": ".py",
   "mimetype": "text/x-python",
   "name": "python",
   "nbconvert_exporter": "python",
   "pygments_lexer": "ipython3",
   "version": "3.13.5"
  }
 },
 "nbformat": 4,
 "nbformat_minor": 5
}
